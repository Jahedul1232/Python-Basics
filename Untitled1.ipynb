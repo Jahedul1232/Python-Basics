{
 "cells": [
  {
   "cell_type": "markdown",
   "metadata": {},
   "source": [
    "# #Lambda"
   ]
  },
  {
   "cell_type": "code",
   "execution_count": 2,
   "metadata": {},
   "outputs": [
    {
     "name": "stdout",
     "output_type": "stream",
     "text": [
      "[(1, 2), (15, 1), (5, -1), (10, 4)]\n",
      "[(1, 2), (5, -1), (10, 4), (15, 1)]\n"
     ]
    }
   ],
   "source": [
    "points_2d = [(1,2),(15,1),(5,-1),(10,4)]\n",
    "print(points_2d)\n",
    "sort_point = sorted(points_2d)\n",
    "print(sort_point)"
   ]
  },
  {
   "cell_type": "code",
   "execution_count": 3,
   "metadata": {},
   "outputs": [
    {
     "name": "stdout",
     "output_type": "stream",
     "text": [
      "[(5, -1), (15, 1), (1, 2), (10, 4)]\n"
     ]
    }
   ],
   "source": [
    "sorted_point = sorted(points_2d,key= lambda x:x[1])\n",
    "print(sorted_point)"
   ]
  },
  {
   "cell_type": "code",
   "execution_count": 4,
   "metadata": {},
   "outputs": [
    {
     "data": {
      "text/plain": [
       "[2, 4, 6, 8, 10]"
      ]
     },
     "execution_count": 4,
     "metadata": {},
     "output_type": "execute_result"
    }
   ],
   "source": [
    "#list comprehension \n",
    "a = [1,2,3,4,5]\n",
    "c = [x*2 for x in a]\n",
    "c"
   ]
  },
  {
   "cell_type": "code",
   "execution_count": 8,
   "metadata": {},
   "outputs": [
    {
     "data": {
      "text/plain": [
       "[2, 4, 6, 8, 10]"
      ]
     },
     "execution_count": 8,
     "metadata": {},
     "output_type": "execute_result"
    }
   ],
   "source": [
    "c_map = map(lambda x:x*2,a)\n",
    "list(c_map)"
   ]
  },
  {
   "cell_type": "code",
   "execution_count": 6,
   "metadata": {},
   "outputs": [
    {
     "name": "stdout",
     "output_type": "stream",
     "text": [
      "[2, 4]\n"
     ]
    }
   ],
   "source": [
    "b = filter(lambda x: x%2==0,a)\n",
    "print(list(b))"
   ]
  },
  {
   "cell_type": "code",
   "execution_count": 10,
   "metadata": {},
   "outputs": [
    {
     "data": {
      "text/plain": [
       "24"
      ]
     },
     "execution_count": 10,
     "metadata": {},
     "output_type": "execute_result"
    }
   ],
   "source": [
    "#1*2 = 2*3 = 6*4 = 24\n",
    "a = [1,2,3,4]\n",
    "from functools import reduce\n",
    "product_a = reduce(lambda x,y:x*y,a)\n",
    "product_a"
   ]
  },
  {
   "cell_type": "markdown",
   "metadata": {},
   "source": [
    "# Exceptions"
   ]
  },
  {
   "cell_type": "code",
   "execution_count": 13,
   "metadata": {},
   "outputs": [
    {
     "name": "stdout",
     "output_type": "stream",
     "text": [
      "unsupported operand type(s) for +: 'float' and 'str'\n"
     ]
    }
   ],
   "source": [
    "try:\n",
    "    a = 5/0\n",
    "    b = a+'10'\n",
    "except Exception as e:\n",
    "    print(e)"
   ]
  },
  {
   "cell_type": "markdown",
   "metadata": {},
   "source": [
    "# Logging"
   ]
  },
  {
   "cell_type": "code",
   "execution_count": null,
   "metadata": {},
   "outputs": [],
   "source": []
  },
  {
   "cell_type": "markdown",
   "metadata": {},
   "source": [
    "# Json"
   ]
  },
  {
   "cell_type": "code",
   "execution_count": 6,
   "metadata": {},
   "outputs": [
    {
     "name": "stdout",
     "output_type": "stream",
     "text": [
      "{'name': 'John', 'age': '30', 'city': 'New York', 'hasChildern': False, 'titles': ['engineer', 'programmer']}\n",
      "{\n",
      "    \"name\": \"John\",\n",
      "    \"age\": \"30\",\n",
      "    \"city\": \"New York\",\n",
      "    \"hasChildern\": false,\n",
      "    \"titles\": [\n",
      "        \"engineer\",\n",
      "        \"programmer\"\n",
      "    ]\n",
      "}\n"
     ]
    }
   ],
   "source": [
    "#Converting python dictonary to json\n",
    "\n",
    "import json\n",
    "person = {'name':'John','age':'30','city':'New York','hasChildern':False,'titles':['engineer', 'programmer']}\n",
    "json_person = json.dumps(person,indent = 4)     #in dumps s stands for string\n",
    "print(person)\n",
    "print(json_person)"
   ]
  },
  {
   "cell_type": "code",
   "execution_count": 7,
   "metadata": {},
   "outputs": [],
   "source": [
    "#saving json as a json file\n",
    "\n",
    "with open('person.json','w')as file:\n",
    "    json.dump(person,file,indent = 4)"
   ]
  },
  {
   "cell_type": "code",
   "execution_count": 9,
   "metadata": {},
   "outputs": [
    {
     "name": "stdout",
     "output_type": "stream",
     "text": [
      "{'name': 'John', 'age': '30', 'city': 'New York', 'hasChildern': False, 'titles': ['engineer', 'programmer']}\n"
     ]
    }
   ],
   "source": [
    "#reading from json file\n",
    "\n",
    "with open('person.json','r')as file:\n",
    "    person = json.load(file)\n",
    "    print(person)"
   ]
  },
  {
   "cell_type": "markdown",
   "metadata": {},
   "source": [
    "# Random"
   ]
  },
  {
   "cell_type": "code",
   "execution_count": 15,
   "metadata": {},
   "outputs": [
    {
     "data": {
      "text/plain": [
       "['F', 'A', 'E']"
      ]
     },
     "execution_count": 15,
     "metadata": {},
     "output_type": "execute_result"
    }
   ],
   "source": [
    "import random \n",
    "mylist = list('ABCDEFGH')\n",
    "a = random.sample(mylist,3)\n",
    "a"
   ]
  },
  {
   "cell_type": "code",
   "execution_count": 24,
   "metadata": {},
   "outputs": [
    {
     "data": {
      "text/plain": [
       "['H', 'A', 'H']"
      ]
     },
     "execution_count": 24,
     "metadata": {},
     "output_type": "execute_result"
    }
   ],
   "source": [
    "import random \n",
    "mylist = list('ABCDEFGH')\n",
    "a = random.choices(mylist,k=3)\n",
    "a"
   ]
  },
  {
   "cell_type": "markdown",
   "metadata": {},
   "source": [
    "# Decorators"
   ]
  },
  {
   "cell_type": "code",
   "execution_count": null,
   "metadata": {},
   "outputs": [],
   "source": [
    "@decorators\n",
    "def DoSomething():\n",
    "    pass"
   ]
  },
  {
   "cell_type": "code",
   "execution_count": 32,
   "metadata": {},
   "outputs": [
    {
     "name": "stdout",
     "output_type": "stream",
     "text": [
      "start\n",
      "Alex\n",
      "end\n"
     ]
    }
   ],
   "source": [
    "def start_end_decorator(func):\n",
    "    \n",
    "    def wrapper():\n",
    "        print('start')\n",
    "        func()\n",
    "        print('end')\n",
    "    return wrapper\n",
    "@start_end_decorator\n",
    "def print_name():\n",
    "    print('Alex')\n",
    "    \n",
    "\n",
    "# print_name = start_end_decorator(print_name)\n",
    "print_name()"
   ]
  },
  {
   "cell_type": "code",
   "execution_count": 37,
   "metadata": {},
   "outputs": [
    {
     "name": "stdout",
     "output_type": "stream",
     "text": [
      "start\n",
      "end\n",
      "10\n"
     ]
    }
   ],
   "source": [
    "def start_end_decorator(func):\n",
    "    \n",
    "    def wrapper(*args, **kwargs):\n",
    "        print('start')\n",
    "        results =  func(*args, **kwargs)\n",
    "        print('end')\n",
    "        return results\n",
    "    return wrapper\n",
    "@start_end_decorator \n",
    "def add(x):\n",
    "    return x+5\n",
    "    \n",
    "\n",
    "# print_name = start_end_decorator(print_name)\n",
    "result = add(5)\n",
    "print(result)"
   ]
  },
  {
   "cell_type": "markdown",
   "metadata": {},
   "source": [
    "# Functions"
   ]
  },
  {
   "cell_type": "code",
   "execution_count": 38,
   "metadata": {},
   "outputs": [
    {
     "name": "stdout",
     "output_type": "stream",
     "text": [
      "1 2 3 4\n"
     ]
    }
   ],
   "source": [
    "def foo(a,b,c,d):\n",
    "    print(a,b,c,d)\n",
    "\n",
    "foo(1,2,3,4)"
   ]
  },
  {
   "cell_type": "code",
   "execution_count": 41,
   "metadata": {},
   "outputs": [
    {
     "name": "stdout",
     "output_type": "stream",
     "text": [
      "1 2\n",
      "3\n",
      "4\n",
      "5\n",
      "6\n",
      "seven 7\n",
      "eight 8\n"
     ]
    }
   ],
   "source": [
    "def foo(a,b,*args,**kwargs):\n",
    "    print(a,b)\n",
    "    \n",
    "    for arg in args:\n",
    "        print(arg)\n",
    "        \n",
    "    for key in kwargs:\n",
    "        print(key,kwargs[key])\n",
    "    \n",
    "foo(1,2,3,4,5,6,seven = 7,eight = 8)\n",
    "    \n",
    "    "
   ]
  },
  {
   "cell_type": "code",
   "execution_count": 42,
   "metadata": {},
   "outputs": [
    {
     "name": "stdout",
     "output_type": "stream",
     "text": [
      "1 2\n",
      "seven 7\n",
      "eight 8\n"
     ]
    }
   ],
   "source": [
    "def foo(a,b,*args,**kwargs):\n",
    "    print(a,b)\n",
    "    \n",
    "    for arg in args:\n",
    "        print(arg)\n",
    "        \n",
    "    for key in kwargs:\n",
    "        print(key,kwargs[key])\n",
    "    \n",
    "foo(1,2,seven = 7,eight = 8)\n",
    "    \n",
    "    "
   ]
  },
  {
   "cell_type": "code",
   "execution_count": 43,
   "metadata": {},
   "outputs": [
    {
     "name": "stdout",
     "output_type": "stream",
     "text": [
      "[1, 2, 3, 4, 5]\n",
      "6\n"
     ]
    }
   ],
   "source": [
    "numbers = (1,2,3,4,5,6)\n",
    "*beginning ,last = numbers\n",
    "print(beginning)\n",
    "print(last)"
   ]
  },
  {
   "cell_type": "code",
   "execution_count": 46,
   "metadata": {},
   "outputs": [
    {
     "name": "stdout",
     "output_type": "stream",
     "text": [
      "1\n",
      "[2, 3, 4, 5, 6, 7]\n",
      "8\n",
      "9\n"
     ]
    }
   ],
   "source": [
    "numbers = (1,2,3,4,5,6,7,8,9)\n",
    "beginning , *middle,secondlast , last = numbers\n",
    "print(beginning)\n",
    "print(middle) \n",
    "print(secondlast) \n",
    "print(last)"
   ]
  },
  {
   "cell_type": "markdown",
   "metadata": {},
   "source": [
    "# classes"
   ]
  },
  {
   "cell_type": "code",
   "execution_count": 51,
   "metadata": {},
   "outputs": [
    {
     "name": "stdout",
     "output_type": "stream",
     "text": [
      "6\n",
      "4\n",
      "5\n"
     ]
    }
   ],
   "source": [
    "class calculator:\n",
    "    \n",
    "    def addition(self,x):\n",
    "        return x+1\n",
    "    def substraction(self,x):\n",
    "        return x-1\n",
    "    def multiplication(self,x):\n",
    "        return x*1 \n",
    "    \n",
    "    \n",
    "d = calculator()\n",
    "print(d.addition(5))\n",
    "print(d.substraction(5))\n",
    "print(d.multiplication(5))"
   ]
  },
  {
   "cell_type": "code",
   "execution_count": 52,
   "metadata": {},
   "outputs": [
    {
     "name": "stdout",
     "output_type": "stream",
     "text": [
      "I am customer Jahed\n"
     ]
    }
   ],
   "source": [
    "class Customer:\n",
    "    \n",
    "    def identity(self,name):\n",
    "        print(\"I am customer \"+name)\n",
    "        \n",
    "        \n",
    "cust = Customer()\n",
    "cust.identity('Jahed')"
   ]
  },
  {
   "cell_type": "code",
   "execution_count": 53,
   "metadata": {},
   "outputs": [
    {
     "name": "stdout",
     "output_type": "stream",
     "text": [
      "i am customer ajksdhjah\n"
     ]
    }
   ],
   "source": [
    "class Customer:\n",
    "    def set_name(self,new_name):\n",
    "        self.name = new_name\n",
    "        \n",
    "    def identify(self):\n",
    "        print('i am customer '+self.name)\n",
    "        \n",
    "        \n",
    "cust = Customer()\n",
    "cust.set_name('ajksdhjah')\n",
    "cust.identify()"
   ]
  },
  {
   "cell_type": "code",
   "execution_count": 55,
   "metadata": {},
   "outputs": [
    {
     "name": "stdout",
     "output_type": "stream",
     "text": [
      "Jahedul islam\n",
      "5000\n"
     ]
    }
   ],
   "source": [
    "class Employee:\n",
    "    def set_name(self,new_name):\n",
    "        self.name = new_name\n",
    "        \n",
    "    def set_salary(self,new_salary):\n",
    "        self.salary = new_salary\n",
    "        \n",
    "emp = Employee()\n",
    "emp.set_name('Jahedul islam')\n",
    "print(emp.name)\n",
    "\n",
    "emp.set_salary(5000)\n",
    "print(emp.salary)"
   ]
  },
  {
   "cell_type": "code",
   "execution_count": 57,
   "metadata": {},
   "outputs": [
    {
     "name": "stdout",
     "output_type": "stream",
     "text": [
      "4166.666666666667\n"
     ]
    }
   ],
   "source": [
    "class Employee:\n",
    "    def set_name(self,new_name):\n",
    "        self.name = new_name\n",
    "        \n",
    "    def set_salary(self,new_salary):\n",
    "        self.salary = new_salary\n",
    "        \n",
    "    def give_raise(self,amount):\n",
    "        sef.salary = sef.salary + amount\n",
    "        \n",
    "    def monthly_salary(self,monthly):\n",
    "        return monthly/12\n",
    "        \n",
    "emp = Employee()\n",
    "emp.set_name('Jahedul Islam')\n",
    "emp.set_salary(50000)\n",
    "mon_sal = emp.monthly_salary(emp.salary)\n",
    "\n",
    "print(mon_sal)"
   ]
  },
  {
   "cell_type": "code",
   "execution_count": 1,
   "metadata": {},
   "outputs": [
    {
     "name": "stdout",
     "output_type": "stream",
     "text": [
      "|----------\n",
      "----|------\n",
      "---------|-\n",
      "----------|\n"
     ]
    }
   ],
   "source": [
    "class Player:\n",
    "    MAX_POSITION = 10\n",
    "    \n",
    "    def __init__(self):\n",
    "        self.position = 0\n",
    "\n",
    "    # Add a move() method with steps parameter\n",
    "    def move(self,steps): \n",
    "        if self.position+steps<Player.MAX_POSITION:\n",
    "            self.position +=steps\n",
    "        else:\n",
    "            self.position = Player.MAX_POSITION\n",
    "    \n",
    "\n",
    "       \n",
    "    # This method provides a rudimentary visualization in the console    \n",
    "    def draw(self):\n",
    "        drawing = \"-\" * self.position + \"|\" +\"-\"*(Player.MAX_POSITION - self.position)\n",
    "        print(drawing)\n",
    "\n",
    "p = Player(); p.draw()\n",
    "p.move(4); p.draw()\n",
    "p.move(5); p.draw()\n",
    "p.move(3); p.draw()"
   ]
  },
  {
   "cell_type": "code",
   "execution_count": 1,
   "metadata": {},
   "outputs": [
    {
     "name": "stdout",
     "output_type": "stream",
     "text": [
      "2020\n",
      "4\n",
      "30\n"
     ]
    }
   ],
   "source": [
    "class BetterDate:\n",
    "    # Constructor\n",
    "    def __init__(self, year, month, day):\n",
    "      # Recall that Python allows multiple variable assignments in one line\n",
    "      self.year, self.month, self.day = year, month, day\n",
    "    \n",
    "    # Define a class method from_str\n",
    "    @classmethod\n",
    "    def from_str(cls, datestr):\n",
    "         # Split the string at \"-\" and  convert each part to integer\n",
    "        parts = datestr.split(\"-\")\n",
    "        year, month, day = int(parts[0]), int(parts[1]), int(parts[2])\n",
    "        # Return the class instance\n",
    "        return cls(year, month, day)\n",
    "        \n",
    "bd = BetterDate.from_str('2020-04-30')   \n",
    "print(bd.year)\n",
    "print(bd.month)\n",
    "print(bd.day)"
   ]
  },
  {
   "cell_type": "code",
   "execution_count": 14,
   "metadata": {},
   "outputs": [
    {
     "name": "stdout",
     "output_type": "stream",
     "text": [
      "last name is hello there\n",
      "name is hello there\n"
     ]
    }
   ],
   "source": [
    "class NameGame:\n",
    "    #constructor executed second in this case\n",
    "    def __init__(self,name):\n",
    "        self.name = name\n",
    "        print('name is '+name)\n",
    "        \n",
    "        \n",
    "    #class methods executed first\n",
    "    @classmethod\n",
    "    def from_name(cls,lastname):\n",
    "        print('last name is '+lastname)\n",
    "        return cls(lastname)\n",
    "        \n",
    "        \n",
    "lastname = NameGame.from_name('hello there')\n",
    "#print(lastname.name)"
   ]
  },
  {
   "cell_type": "code",
   "execution_count": null,
   "metadata": {},
   "outputs": [],
   "source": []
  }
 ],
 "metadata": {
  "kernelspec": {
   "display_name": "Python 3",
   "language": "python",
   "name": "python3"
  },
  "language_info": {
   "codemirror_mode": {
    "name": "ipython",
    "version": 3
   },
   "file_extension": ".py",
   "mimetype": "text/x-python",
   "name": "python",
   "nbconvert_exporter": "python",
   "pygments_lexer": "ipython3",
   "version": "3.8.5"
  }
 },
 "nbformat": 4,
 "nbformat_minor": 4
}
